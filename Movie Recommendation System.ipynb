{
 "cells": [
  {
   "cell_type": "markdown",
   "id": "625f1149",
   "metadata": {},
   "source": [
    "# MOVIE RECOMMENDATION SYSTEM"
   ]
  },
  {
   "cell_type": "markdown",
   "id": "754bed49",
   "metadata": {},
   "source": [
    "###### \"Import all necessary libraries\""
   ]
  },
  {
   "cell_type": "code",
   "execution_count": 9,
   "id": "7213f612",
   "metadata": {},
   "outputs": [],
   "source": [
    "import pandas as pd\n",
    "import numpy as np\n",
    "from sklearn.metrics.pairwise import cosine_similarity\n",
    "from sklearn.model_selection import train_test_split\n"
   ]
  },
  {
   "cell_type": "markdown",
   "id": "32ca8dde",
   "metadata": {},
   "source": [
    "###### \"Load the dataset\""
   ]
  },
  {
   "cell_type": "code",
   "execution_count": 10,
   "id": "ce80a386",
   "metadata": {},
   "outputs": [],
   "source": [
    "ratings = pd.read_csv('Ratings.csv', encoding='latin1')\n",
    "movies = pd.read_csv('Movies.csv', encoding='latin1')\n"
   ]
  },
  {
   "cell_type": "markdown",
   "id": "6d141357",
   "metadata": {},
   "source": [
    "###### \" Merge the datasets to get movie ratings\""
   ]
  },
  {
   "cell_type": "code",
   "execution_count": 11,
   "id": "0147efeb",
   "metadata": {},
   "outputs": [],
   "source": [
    "data = pd.merge(ratings, movies, on='id')\n"
   ]
  },
  {
   "cell_type": "markdown",
   "id": "ad9b3a34",
   "metadata": {},
   "source": [
    "###### \"Create a user-item matrix\""
   ]
  },
  {
   "cell_type": "code",
   "execution_count": 12,
   "id": "fa577e4e",
   "metadata": {},
   "outputs": [],
   "source": [
    "user_item_matrix = data.pivot_table(index='userID', columns='title', values='rating')\n"
   ]
  },
  {
   "cell_type": "markdown",
   "id": "9c1f11bf",
   "metadata": {},
   "source": [
    "###### \"Replace NaN values with 0 (or any other suitable default value\""
   ]
  },
  {
   "cell_type": "code",
   "execution_count": 13,
   "id": "a2e6c6f5",
   "metadata": {},
   "outputs": [],
   "source": [
    "user_item_matrix = user_item_matrix.fillna(0)"
   ]
  },
  {
   "cell_type": "markdown",
   "id": "8d3fcaff",
   "metadata": {},
   "source": [
    "###### \"Split the dataset into training and testing sets\""
   ]
  },
  {
   "cell_type": "code",
   "execution_count": 14,
   "id": "759c4763",
   "metadata": {},
   "outputs": [],
   "source": [
    "train_data, test_data = train_test_split(user_item_matrix, test_size=0.2)\n"
   ]
  },
  {
   "cell_type": "markdown",
   "id": "63445301",
   "metadata": {},
   "source": [
    "###### \"Compute the cosine similarity between users\""
   ]
  },
  {
   "cell_type": "code",
   "execution_count": 15,
   "id": "70c62fd8",
   "metadata": {},
   "outputs": [],
   "source": [
    "item_similarity = cosine_similarity(train_data.T)\n"
   ]
  },
  {
   "cell_type": "markdown",
   "id": "d658b421",
   "metadata": {},
   "source": [
    "###### \" Function to generate movie recommendations for a given user\"\n"
   ]
  },
  {
   "cell_type": "code",
   "execution_count": 16,
   "id": "b55b2d1f",
   "metadata": {},
   "outputs": [],
   "source": [
    "def get_movie_recommendations(movie_name, num_recommendations=5):\n",
    "    # Find movies containing the specified movie_name\n",
    "    matching_movies = [col for col in user_item_matrix.columns if movie_name.lower() in col.lower()]\n",
    "    \n",
    "    if not matching_movies:\n",
    "        print(f\"No movies found containing '{movie_name}'.\")\n",
    "        return []\n",
    "\n",
    "    # Use the first matching movie (you can modify this if there are multiple matches)\n",
    "    movie_index = user_item_matrix.columns.get_loc(matching_movies[0])\n",
    "\n",
    "    # Get the similarity scores for the movie\n",
    "    similar_scores = item_similarity[movie_index]\n",
    "\n",
    "    # Sort the movies by similarity and get the top recommendations\n",
    "    recommended_movie_indices = np.argsort(similar_scores)[-num_recommendations-1:-1]\n",
    "    recommended_movies = list(user_item_matrix.columns[recommended_movie_indices])\n",
    "    recommended_movies.reverse()\n",
    "\n",
    "    return recommended_movies\n"
   ]
  },
  {
   "cell_type": "markdown",
   "id": "115da804",
   "metadata": {},
   "source": [
    "###### \"Test the Recommendation System\""
   ]
  },
  {
   "cell_type": "code",
   "execution_count": 17,
   "id": "2326e5ca",
   "metadata": {},
   "outputs": [
    {
     "name": "stdout",
     "output_type": "stream",
     "text": [
      "Recommendations for movies containing 'Toy Story':\n",
      "Toy story\n",
      "Monsters, Inc.\n",
      "Finding Nemo\n",
      "A Bug's Life\n",
      "Shrek\n"
     ]
    }
   ],
   "source": [
    "# Example usage\n",
    "movie_name = 'Toy Story'\n",
    "recommendations = get_movie_recommendations(movie_name)\n",
    "if recommendations:\n",
    "    print(f\"Recommendations for movies containing '{movie_name}':\")\n",
    "    for movie in recommendations:\n",
    "        print(movie)\n",
    "\n",
    "\n",
    "\n"
   ]
  },
  {
   "cell_type": "code",
   "execution_count": null,
   "id": "84627108",
   "metadata": {},
   "outputs": [],
   "source": []
  }
 ],
 "metadata": {
  "kernelspec": {
   "display_name": "Python 3 (ipykernel)",
   "language": "python",
   "name": "python3"
  },
  "language_info": {
   "codemirror_mode": {
    "name": "ipython",
    "version": 3
   },
   "file_extension": ".py",
   "mimetype": "text/x-python",
   "name": "python",
   "nbconvert_exporter": "python",
   "pygments_lexer": "ipython3",
   "version": "3.10.9"
  }
 },
 "nbformat": 4,
 "nbformat_minor": 5
}
